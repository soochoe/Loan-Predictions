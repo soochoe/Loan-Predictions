{
 "cells": [
  {
   "cell_type": "code",
   "execution_count": 20,
   "metadata": {
    "collapsed": false
   },
   "outputs": [
    {
     "name": "stdout",
     "output_type": "stream",
     "text": [
      "<class 'pandas.core.frame.DataFrame'>\n",
      "RangeIndex: 38708 entries, 0 to 38707\n",
      "Data columns (total 38 columns):\n",
      "loan_amnt                              38708 non-null float64\n",
      "int_rate                               38708 non-null float64\n",
      "installment                            38708 non-null float64\n",
      "emp_length                             38708 non-null int64\n",
      "annual_inc                             38708 non-null float64\n",
      "loan_status                            38708 non-null int64\n",
      "dti                                    38708 non-null float64\n",
      "delinq_2yrs                            38708 non-null float64\n",
      "inq_last_6mths                         38708 non-null float64\n",
      "open_acc                               38708 non-null float64\n",
      "pub_rec                                38708 non-null float64\n",
      "revol_bal                              38708 non-null float64\n",
      "revol_util                             38708 non-null float64\n",
      "total_acc                              38708 non-null float64\n",
      "home_ownership_MORTGAGE                38708 non-null int64\n",
      "home_ownership_NONE                    38708 non-null int64\n",
      "home_ownership_OTHER                   38708 non-null int64\n",
      "home_ownership_OWN                     38708 non-null int64\n",
      "home_ownership_RENT                    38708 non-null int64\n",
      "verification_status_Not Verified       38708 non-null int64\n",
      "verification_status_Source Verified    38708 non-null int64\n",
      "verification_status_Verified           38708 non-null int64\n",
      "purpose_car                            38708 non-null int64\n",
      "purpose_credit_card                    38708 non-null int64\n",
      "purpose_debt_consolidation             38708 non-null int64\n",
      "purpose_educational                    38708 non-null int64\n",
      "purpose_home_improvement               38708 non-null int64\n",
      "purpose_house                          38708 non-null int64\n",
      "purpose_major_purchase                 38708 non-null int64\n",
      "purpose_medical                        38708 non-null int64\n",
      "purpose_moving                         38708 non-null int64\n",
      "purpose_other                          38708 non-null int64\n",
      "purpose_renewable_energy               38708 non-null int64\n",
      "purpose_small_business                 38708 non-null int64\n",
      "purpose_vacation                       38708 non-null int64\n",
      "purpose_wedding                        38708 non-null int64\n",
      "term_ 36 months                        38708 non-null int64\n",
      "term_ 60 months                        38708 non-null int64\n",
      "dtypes: float64(12), int64(26)\n",
      "memory usage: 11.2 MB\n",
      "None\n"
     ]
    }
   ],
   "source": [
    "import pandas as pd\n",
    "loans1 = pd.read_csv(\"loans.csv\")\n",
    "\n",
    "loans1 = loans1.drop([\"Unnamed: 0\"], axis=1)\n",
    "print(loans1.info())"
   ]
  },
  {
   "cell_type": "code",
   "execution_count": 21,
   "metadata": {
    "collapsed": false
   },
   "outputs": [],
   "source": [
    "from sklearn.linear_model import LogisticRegression\n",
    "from sklearn.model_selection import cross_val_predict\n",
    "# Instantiate model object\n",
    "lr = LogisticRegression()\n",
    "features = loans1\n",
    "features = features.drop([\"loan_status\"], axis=1)\n",
    "\n",
    "# create a targe column (loan_status)\n",
    "target = loans1[\"loan_status\"]\n",
    "\n",
    "# Create an instance of Logistic Regression Classifier and fit the data.\n",
    "lr.fit(features, target)\n",
    "\n",
    "predictions = lr.predict(features)"
   ]
  },
  {
   "cell_type": "code",
   "execution_count": 22,
   "metadata": {
    "collapsed": false
   },
   "outputs": [
    {
     "name": "stdout",
     "output_type": "stream",
     "text": [
      "0.9989121566494424\n",
      "0.9967943009795192\n"
     ]
    }
   ],
   "source": [
    "\n",
    "## 7. Cross Validation ##\n",
    "\n",
    "from sklearn.linear_model import LogisticRegression\n",
    "from sklearn.model_selection import cross_val_predict\n",
    "# Instantiate model object\n",
    "lr = LogisticRegression()\n",
    "\n",
    "# Make predictions using 3-fold cross-validation\n",
    "predictions = cross_val_predict(lr, features, target, cv=3)\n",
    "predictions = pd.Series(predictions)\n",
    "\n",
    "# False positives\n",
    "fp_filter = (predictions == 1) & (loans1[\"loan_status\"] == 0)\n",
    "fp = len(predictions[fp_filter])\n",
    "\n",
    "# True positives.\n",
    "tp_filter = (predictions == 1) & (loans1[\"loan_status\"] == 1)\n",
    "tp = len(predictions[tp_filter])\n",
    "\n",
    "# False negatives.\n",
    "fn_filter = (predictions == 0) & (loans1[\"loan_status\"] == 1)\n",
    "fn = len(predictions[fn_filter])\n",
    "\n",
    "# True negatives\n",
    "tn_filter = (predictions == 0) & (loans1[\"loan_status\"] == 0)\n",
    "tn = len(predictions[tn_filter])\n",
    "\n",
    "# Rates\n",
    "tpr = tp / (tp + fn)\n",
    "fpr = fp / (fp + tn)\n",
    "\n",
    "print(tpr)\n",
    "print(fpr)"
   ]
  },
  {
   "cell_type": "code",
   "execution_count": 23,
   "metadata": {
    "collapsed": false
   },
   "outputs": [
    {
     "name": "stdout",
     "output_type": "stream",
     "text": [
      "0.6579034841205089\n",
      "0.38290293855743546\n",
      "2150\n",
      "21772\n",
      "11321\n",
      "3465\n"
     ]
    }
   ],
   "source": [
    "\n",
    "\n",
    "## 9. Penalizing the classifier ##\n",
    "\n",
    "\n",
    "# Instantiate model object\n",
    "lr = LogisticRegression(class_weight = \"balanced\")\n",
    "\n",
    "# Make predictions using 3-fold cross-validation\n",
    "predictions = cross_val_predict(lr, features, target, cv=3)\n",
    "# Converting to Series objects letse us take advantage of boolean filtering and arithmetic operations from pandas.\n",
    "predictions = pd.Series(predictions)\n",
    "\n",
    "\n",
    "fp_filter = (predictions == 1) & (loans1[\"loan_status\"] == 0)\n",
    "fp = len(predictions[fp_filter])\n",
    "\n",
    "# True positives.\n",
    "tp_filter = (predictions == 1) & (loans1[\"loan_status\"] == 1)\n",
    "tp = len(predictions[tp_filter])\n",
    "\n",
    "# False negatives.\n",
    "fn_filter = (predictions == 0) & (loans1[\"loan_status\"] == 1)\n",
    "fn = len(predictions[fn_filter])\n",
    "\n",
    "# True negatives\n",
    "tn_filter = (predictions == 0) & (loans1[\"loan_status\"] == 0)\n",
    "tn = len(predictions[tn_filter])\n",
    "\n",
    "# Rates\n",
    "tpr = tp / (tp + fn)\n",
    "fpr = fp / (fp + tn)\n",
    "\n",
    "print(tpr)\n",
    "print(fpr)\n",
    "\n",
    "print(fp)\n",
    "print(tp)\n",
    "print(fn)\n",
    "print(tn)\n",
    "\n"
   ]
  },
  {
   "cell_type": "code",
   "execution_count": 24,
   "metadata": {
    "collapsed": false
   },
   "outputs": [
    {
     "name": "stdout",
     "output_type": "stream",
     "text": [
      "0.24005076602302602\n",
      "0.09029385574354408\n",
      "507\n",
      "7944\n",
      "25149\n",
      "5108\n"
     ]
    }
   ],
   "source": [
    "penalty = {\n",
    "    0: 10,\n",
    "    1: 1\n",
    "}\n",
    "\n",
    "lr = LogisticRegression(class_weight = penalty)\n",
    "\n",
    "# Make predictions using 3-fold cross-validation\n",
    "predictions = cross_val_predict(lr, features, target, cv=3)\n",
    "# Converting to Series objects letse us take advantage of boolean filtering and arithmetic operations from pandas.\n",
    "predictions = pd.Series(predictions)\n",
    "\n",
    "# False positives\n",
    "fp_filter = (predictions == 1) & (loans1[\"loan_status\"] == 0)\n",
    "fp = len(predictions[fp_filter])\n",
    "\n",
    "# True positives.\n",
    "tp_filter = (predictions == 1) & (loans1[\"loan_status\"] == 1)\n",
    "tp = len(predictions[tp_filter])\n",
    "\n",
    "# False negatives.\n",
    "fn_filter = (predictions == 0) & (loans1[\"loan_status\"] == 1)\n",
    "fn = len(predictions[fn_filter])\n",
    "\n",
    "# True negatives\n",
    "tn_filter = (predictions == 0) & (loans1[\"loan_status\"] == 0)\n",
    "tn = len(predictions[tn_filter])\n",
    "\n",
    "# Rates\n",
    "\n",
    "fpr = fp / (fp + tn)\n",
    "tpr = tp / (tp + fn)\n",
    "print(tpr)\n",
    "print(fpr)\n",
    "\n",
    "print(fp)\n",
    "print(tp)\n",
    "print(fn)\n",
    "print(tn)\n",
    "\n"
   ]
  },
  {
   "cell_type": "code",
   "execution_count": null,
   "metadata": {
    "collapsed": true
   },
   "outputs": [],
   "source": []
  }
 ],
 "metadata": {
  "kernelspec": {
   "display_name": "Python 3",
   "language": "python",
   "name": "python3"
  },
  "language_info": {
   "codemirror_mode": {
    "name": "ipython",
    "version": 3
   },
   "file_extension": ".py",
   "mimetype": "text/x-python",
   "name": "python",
   "nbconvert_exporter": "python",
   "pygments_lexer": "ipython3",
   "version": "3.5.2"
  }
 },
 "nbformat": 4,
 "nbformat_minor": 2
}
